{
  "cells": [
    {
      "cell_type": "code",
      "execution_count": null,
      "id": "c3919607",
      "metadata": {
        "id": "c3919607"
      },
      "outputs": [],
      "source": [
        "import numpy as np\n",
        "import sklearn\n",
        "import pandas as pd"
      ]
    },
    {
      "cell_type": "code",
      "execution_count": null,
      "id": "2ea21109",
      "metadata": {
        "id": "2ea21109"
      },
      "outputs": [],
      "source": [
        "df=pd.read_csv(\"Crime_Data_2010_2017.csv\")"
      ]
    },
    {
      "cell_type": "code",
      "execution_count": null,
      "id": "35433a60",
      "metadata": {
        "id": "35433a60",
        "outputId": "8e5073e0-75e0-431c-8036-26105ba73c91"
      },
      "outputs": [
        {
          "data": {
            "text/plain": [
              "0    (33.9829, -118.3338)\n",
              "1    (34.0454, -118.3157)\n",
              "2     (33.942, -118.2717)\n",
              "3    (33.9572, -118.2717)\n",
              "4    (34.2009, -118.6369)\n",
              "5    (34.0591, -118.2412)\n",
              "6    (34.1211, -118.2048)\n",
              "7     (34.241, -118.3987)\n",
              "8    (34.3147, -118.4589)\n",
              "9    (34.2012, -118.4662)\n",
              "Name: Location , dtype: object"
            ]
          },
          "execution_count": 4,
          "metadata": {},
          "output_type": "execute_result"
        }
      ],
      "source": [
        "df[\"Location \"].head(10)"
      ]
    },
    {
      "cell_type": "code",
      "execution_count": null,
      "id": "7d8854b5",
      "metadata": {
        "id": "7d8854b5",
        "outputId": "e265e0bb-ee4f-49d0-ec75-e2afe6da0393"
      },
      "outputs": [
        {
          "data": {
            "text/html": [
              "<div>\n",
              "<style scoped>\n",
              "    .dataframe tbody tr th:only-of-type {\n",
              "        vertical-align: middle;\n",
              "    }\n",
              "\n",
              "    .dataframe tbody tr th {\n",
              "        vertical-align: top;\n",
              "    }\n",
              "\n",
              "    .dataframe thead th {\n",
              "        text-align: right;\n",
              "    }\n",
              "</style>\n",
              "<table border=\"1\" class=\"dataframe\">\n",
              "  <thead>\n",
              "    <tr style=\"text-align: right;\">\n",
              "      <th></th>\n",
              "      <th>DR Number</th>\n",
              "      <th>Time Occurred</th>\n",
              "      <th>Area ID</th>\n",
              "      <th>Reporting District</th>\n",
              "      <th>Crime Code</th>\n",
              "      <th>Victim Age</th>\n",
              "      <th>Premise Code</th>\n",
              "      <th>Weapon Used Code</th>\n",
              "      <th>Crime Code 1</th>\n",
              "      <th>Crime Code 2</th>\n",
              "      <th>Crime Code 3</th>\n",
              "      <th>Crime Code 4</th>\n",
              "    </tr>\n",
              "  </thead>\n",
              "  <tbody>\n",
              "    <tr>\n",
              "      <th>count</th>\n",
              "      <td>1.584316e+06</td>\n",
              "      <td>1.584316e+06</td>\n",
              "      <td>1.584316e+06</td>\n",
              "      <td>1.584316e+06</td>\n",
              "      <td>1.584316e+06</td>\n",
              "      <td>1.455657e+06</td>\n",
              "      <td>1.584240e+06</td>\n",
              "      <td>524757.000000</td>\n",
              "      <td>1.584309e+06</td>\n",
              "      <td>99997.000000</td>\n",
              "      <td>2183.000000</td>\n",
              "      <td>69.000000</td>\n",
              "    </tr>\n",
              "    <tr>\n",
              "      <th>mean</th>\n",
              "      <td>1.358072e+08</td>\n",
              "      <td>1.363975e+03</td>\n",
              "      <td>1.115232e+01</td>\n",
              "      <td>1.161595e+03</td>\n",
              "      <td>5.069982e+02</td>\n",
              "      <td>3.593419e+01</td>\n",
              "      <td>3.124071e+02</td>\n",
              "      <td>370.568852</td>\n",
              "      <td>5.068795e+02</td>\n",
              "      <td>954.461614</td>\n",
              "      <td>970.715529</td>\n",
              "      <td>967.173913</td>\n",
              "    </tr>\n",
              "    <tr>\n",
              "      <th>std</th>\n",
              "      <td>2.259098e+07</td>\n",
              "      <td>6.467544e+02</td>\n",
              "      <td>5.986703e+00</td>\n",
              "      <td>5.986644e+02</td>\n",
              "      <td>2.105490e+02</td>\n",
              "      <td>1.681156e+01</td>\n",
              "      <td>2.102334e+02</td>\n",
              "      <td>114.024156</td>\n",
              "      <td>2.104662e+02</td>\n",
              "      <td>123.611988</td>\n",
              "      <td>88.350046</td>\n",
              "      <td>97.571536</td>\n",
              "    </tr>\n",
              "    <tr>\n",
              "      <th>min</th>\n",
              "      <td>2.100000e+02</td>\n",
              "      <td>1.000000e+00</td>\n",
              "      <td>1.000000e+00</td>\n",
              "      <td>1.000000e+02</td>\n",
              "      <td>1.100000e+02</td>\n",
              "      <td>1.000000e+01</td>\n",
              "      <td>1.010000e+02</td>\n",
              "      <td>101.000000</td>\n",
              "      <td>1.100000e+02</td>\n",
              "      <td>121.000000</td>\n",
              "      <td>93.000000</td>\n",
              "      <td>421.000000</td>\n",
              "    </tr>\n",
              "    <tr>\n",
              "      <th>25%</th>\n",
              "      <td>1.121176e+08</td>\n",
              "      <td>9.300000e+02</td>\n",
              "      <td>6.000000e+00</td>\n",
              "      <td>6.450000e+02</td>\n",
              "      <td>3.300000e+02</td>\n",
              "      <td>2.300000e+01</td>\n",
              "      <td>1.020000e+02</td>\n",
              "      <td>400.000000</td>\n",
              "      <td>3.300000e+02</td>\n",
              "      <td>998.000000</td>\n",
              "      <td>998.000000</td>\n",
              "      <td>998.000000</td>\n",
              "    </tr>\n",
              "    <tr>\n",
              "      <th>50%</th>\n",
              "      <td>1.401095e+08</td>\n",
              "      <td>1.430000e+03</td>\n",
              "      <td>1.200000e+01</td>\n",
              "      <td>1.204000e+03</td>\n",
              "      <td>4.400000e+02</td>\n",
              "      <td>3.400000e+01</td>\n",
              "      <td>2.100000e+02</td>\n",
              "      <td>400.000000</td>\n",
              "      <td>4.400000e+02</td>\n",
              "      <td>998.000000</td>\n",
              "      <td>998.000000</td>\n",
              "      <td>998.000000</td>\n",
              "    </tr>\n",
              "    <tr>\n",
              "      <th>75%</th>\n",
              "      <td>1.520186e+08</td>\n",
              "      <td>1.900000e+03</td>\n",
              "      <td>1.600000e+01</td>\n",
              "      <td>1.676000e+03</td>\n",
              "      <td>6.260000e+02</td>\n",
              "      <td>4.800000e+01</td>\n",
              "      <td>5.010000e+02</td>\n",
              "      <td>400.000000</td>\n",
              "      <td>6.260000e+02</td>\n",
              "      <td>998.000000</td>\n",
              "      <td>998.000000</td>\n",
              "      <td>998.000000</td>\n",
              "    </tr>\n",
              "    <tr>\n",
              "      <th>max</th>\n",
              "      <td>9.102204e+08</td>\n",
              "      <td>2.359000e+03</td>\n",
              "      <td>2.100000e+01</td>\n",
              "      <td>2.198000e+03</td>\n",
              "      <td>9.560000e+02</td>\n",
              "      <td>9.900000e+01</td>\n",
              "      <td>9.710000e+02</td>\n",
              "      <td>516.000000</td>\n",
              "      <td>9.990000e+02</td>\n",
              "      <td>999.000000</td>\n",
              "      <td>999.000000</td>\n",
              "      <td>999.000000</td>\n",
              "    </tr>\n",
              "  </tbody>\n",
              "</table>\n",
              "</div>"
            ],
            "text/plain": [
              "          DR Number  Time Occurred       Area ID  Reporting District  \\\n",
              "count  1.584316e+06   1.584316e+06  1.584316e+06        1.584316e+06   \n",
              "mean   1.358072e+08   1.363975e+03  1.115232e+01        1.161595e+03   \n",
              "std    2.259098e+07   6.467544e+02  5.986703e+00        5.986644e+02   \n",
              "min    2.100000e+02   1.000000e+00  1.000000e+00        1.000000e+02   \n",
              "25%    1.121176e+08   9.300000e+02  6.000000e+00        6.450000e+02   \n",
              "50%    1.401095e+08   1.430000e+03  1.200000e+01        1.204000e+03   \n",
              "75%    1.520186e+08   1.900000e+03  1.600000e+01        1.676000e+03   \n",
              "max    9.102204e+08   2.359000e+03  2.100000e+01        2.198000e+03   \n",
              "\n",
              "         Crime Code    Victim Age  Premise Code  Weapon Used Code  \\\n",
              "count  1.584316e+06  1.455657e+06  1.584240e+06     524757.000000   \n",
              "mean   5.069982e+02  3.593419e+01  3.124071e+02        370.568852   \n",
              "std    2.105490e+02  1.681156e+01  2.102334e+02        114.024156   \n",
              "min    1.100000e+02  1.000000e+01  1.010000e+02        101.000000   \n",
              "25%    3.300000e+02  2.300000e+01  1.020000e+02        400.000000   \n",
              "50%    4.400000e+02  3.400000e+01  2.100000e+02        400.000000   \n",
              "75%    6.260000e+02  4.800000e+01  5.010000e+02        400.000000   \n",
              "max    9.560000e+02  9.900000e+01  9.710000e+02        516.000000   \n",
              "\n",
              "       Crime Code 1  Crime Code 2  Crime Code 3  Crime Code 4  \n",
              "count  1.584309e+06  99997.000000   2183.000000     69.000000  \n",
              "mean   5.068795e+02    954.461614    970.715529    967.173913  \n",
              "std    2.104662e+02    123.611988     88.350046     97.571536  \n",
              "min    1.100000e+02    121.000000     93.000000    421.000000  \n",
              "25%    3.300000e+02    998.000000    998.000000    998.000000  \n",
              "50%    4.400000e+02    998.000000    998.000000    998.000000  \n",
              "75%    6.260000e+02    998.000000    998.000000    998.000000  \n",
              "max    9.990000e+02    999.000000    999.000000    999.000000  "
            ]
          },
          "execution_count": 5,
          "metadata": {},
          "output_type": "execute_result"
        }
      ],
      "source": [
        "df.describe()"
      ]
    },
    {
      "cell_type": "code",
      "execution_count": null,
      "id": "31a90fae",
      "metadata": {
        "id": "31a90fae",
        "outputId": "b09dca7a-4ce8-4001-d6c3-28231498bb6d"
      },
      "outputs": [
        {
          "data": {
            "text/plain": [
              "Index(['DR Number', 'Date Reported', 'Date Occurred', 'Time Occurred',\n",
              "       'Area ID', 'Area Name', 'Reporting District', 'Crime Code',\n",
              "       'Crime Code Description', 'MO Codes', 'Victim Age', 'Victim Sex',\n",
              "       'Victim Descent', 'Premise Code', 'Premise Description',\n",
              "       'Weapon Used Code', 'Weapon Description', 'Status Code',\n",
              "       'Status Description', 'Crime Code 1', 'Crime Code 2', 'Crime Code 3',\n",
              "       'Crime Code 4', 'Address', 'Cross Street', 'Location '],\n",
              "      dtype='object')"
            ]
          },
          "execution_count": 6,
          "metadata": {},
          "output_type": "execute_result"
        }
      ],
      "source": [
        "df.columns"
      ]
    },
    {
      "cell_type": "code",
      "execution_count": null,
      "id": "b9801018",
      "metadata": {
        "id": "b9801018",
        "outputId": "3f8c37aa-e6f2-44e3-c0ad-6033776e27a1"
      },
      "outputs": [
        {
          "name": "stdout",
          "output_type": "stream",
          "text": [
            "<class 'pandas.core.frame.DataFrame'>\n",
            "RangeIndex: 1584316 entries, 0 to 1584315\n",
            "Data columns (total 26 columns):\n",
            " #   Column                  Non-Null Count    Dtype  \n",
            "---  ------                  --------------    -----  \n",
            " 0   DR Number               1584316 non-null  int64  \n",
            " 1   Date Reported           1584316 non-null  object \n",
            " 2   Date Occurred           1584316 non-null  object \n",
            " 3   Time Occurred           1584316 non-null  int64  \n",
            " 4   Area ID                 1584316 non-null  int64  \n",
            " 5   Area Name               1584316 non-null  object \n",
            " 6   Reporting District      1584316 non-null  int64  \n",
            " 7   Crime Code              1584316 non-null  int64  \n",
            " 8   Crime Code Description  1583904 non-null  object \n",
            " 9   MO Codes                1412557 non-null  object \n",
            " 10  Victim Age              1455657 non-null  float64\n",
            " 11  Victim Sex              1439117 non-null  object \n",
            " 12  Victim Descent          1439084 non-null  object \n",
            " 13  Premise Code            1584240 non-null  float64\n",
            " 14  Premise Description     1581565 non-null  object \n",
            " 15  Weapon Used Code        524757 non-null   float64\n",
            " 16  Weapon Description      524756 non-null   object \n",
            " 17  Status Code             1584314 non-null  object \n",
            " 18  Status Description      1584316 non-null  object \n",
            " 19  Crime Code 1            1584309 non-null  float64\n",
            " 20  Crime Code 2            99997 non-null    float64\n",
            " 21  Crime Code 3            2183 non-null     float64\n",
            " 22  Crime Code 4            69 non-null       float64\n",
            " 23  Address                 1584316 non-null  object \n",
            " 24  Cross Street            262733 non-null   object \n",
            " 25  Location                1584307 non-null  object \n",
            "dtypes: float64(7), int64(5), object(14)\n",
            "memory usage: 314.3+ MB\n"
          ]
        }
      ],
      "source": [
        "df.info()"
      ]
    },
    {
      "cell_type": "code",
      "execution_count": null,
      "id": "38130614",
      "metadata": {
        "id": "38130614"
      },
      "outputs": [],
      "source": [
        "crime_codes=dict(zip(df[\"Crime Code\"],df[\"Crime Code Description\"]))\n",
        "area=dict(zip(df[\"Area ID\"],df[\"Area Name\"]))\n",
        "premise=dict(zip(df[\"Premise Code\"],df[\"Premise Description\"]))"
      ]
    },
    {
      "cell_type": "code",
      "execution_count": null,
      "id": "3397a26e",
      "metadata": {
        "id": "3397a26e",
        "outputId": "5713ec43-ea82-4530-ea57-8a70dd508611"
      },
      "outputs": [
        {
          "data": {
            "text/plain": [
              "Index(['DR Number', 'Date Reported', 'Date Occurred', 'Time Occurred',\n",
              "       'Area ID', 'Area Name', 'Reporting District', 'Crime Code',\n",
              "       'Crime Code Description', 'MO Codes', 'Victim Age', 'Victim Sex',\n",
              "       'Victim Descent', 'Premise Code', 'Premise Description',\n",
              "       'Weapon Used Code', 'Weapon Description', 'Status Code',\n",
              "       'Status Description', 'Crime Code 1', 'Crime Code 2', 'Crime Code 3',\n",
              "       'Crime Code 4', 'Address', 'Cross Street', 'Location '],\n",
              "      dtype='object')"
            ]
          },
          "execution_count": 9,
          "metadata": {},
          "output_type": "execute_result"
        }
      ],
      "source": [
        "df.columns"
      ]
    },
    {
      "cell_type": "code",
      "execution_count": null,
      "id": "942d433b",
      "metadata": {
        "id": "942d433b",
        "outputId": "98bd6889-e84c-4c45-be53-b045bd149938"
      },
      "outputs": [
        {
          "name": "stderr",
          "output_type": "stream",
          "text": [
            "C:\\Users\\ashut\\AppData\\Local\\Temp\\ipykernel_13972\\3345610594.py:3: FutureWarning: The default dtype for empty Series will be 'object' instead of 'float64' in a future version. Specify a dtype explicitly to silence this warning.\n",
            "  df2[\"location_x\"]=pd.Series(index=df.index)#df[\"Location \"]\n",
            "C:\\Users\\ashut\\AppData\\Local\\Temp\\ipykernel_13972\\3345610594.py:3: SettingWithCopyWarning: \n",
            "A value is trying to be set on a copy of a slice from a DataFrame.\n",
            "Try using .loc[row_indexer,col_indexer] = value instead\n",
            "\n",
            "See the caveats in the documentation: https://pandas.pydata.org/pandas-docs/stable/user_guide/indexing.html#returning-a-view-versus-a-copy\n",
            "  df2[\"location_x\"]=pd.Series(index=df.index)#df[\"Location \"]\n",
            "C:\\Users\\ashut\\AppData\\Local\\Temp\\ipykernel_13972\\3345610594.py:4: FutureWarning: The default dtype for empty Series will be 'object' instead of 'float64' in a future version. Specify a dtype explicitly to silence this warning.\n",
            "  df2[\"location_y\"]=pd.Series(index=df.index)#df[\"Location \"]\n",
            "C:\\Users\\ashut\\AppData\\Local\\Temp\\ipykernel_13972\\3345610594.py:4: SettingWithCopyWarning: \n",
            "A value is trying to be set on a copy of a slice from a DataFrame.\n",
            "Try using .loc[row_indexer,col_indexer] = value instead\n",
            "\n",
            "See the caveats in the documentation: https://pandas.pydata.org/pandas-docs/stable/user_guide/indexing.html#returning-a-view-versus-a-copy\n",
            "  df2[\"location_y\"]=pd.Series(index=df.index)#df[\"Location \"]\n"
          ]
        }
      ],
      "source": [
        "df2=df[[\"Time Occurred\",\"Area ID\", \"Reporting District\", \"Crime Code\", \"Victim Age\", \"Victim Sex\", \\\n",
        "      \"Victim Descent\", \"Premise Code\", \"Location \"]]\n",
        "df2[\"location_x\"]=pd.Series(index=df.index)#df[\"Location \"]\n",
        "df2[\"location_y\"]=pd.Series(index=df.index)#df[\"Location \"]"
      ]
    },
    {
      "cell_type": "code",
      "execution_count": null,
      "id": "467d0a14",
      "metadata": {
        "id": "467d0a14",
        "outputId": "a1590db6-62d4-4003-af2a-c8bc95f963ef"
      },
      "outputs": [
        {
          "name": "stderr",
          "output_type": "stream",
          "text": [
            "C:\\Users\\ashut\\AppData\\Local\\Temp\\ipykernel_13972\\273787779.py:12: SettingWithCopyWarning: \n",
            "A value is trying to be set on a copy of a slice from a DataFrame.\n",
            "Try using .loc[row_indexer,col_indexer] = value instead\n",
            "\n",
            "See the caveats in the documentation: https://pandas.pydata.org/pandas-docs/stable/user_guide/indexing.html#returning-a-view-versus-a-copy\n",
            "  df2[\"Location \"]=df2[\"Location \"].replace(np.nan,\"(0.0, 0.0)\")\n",
            "C:\\Users\\ashut\\AppData\\Local\\Temp\\ipykernel_13972\\273787779.py:14: SettingWithCopyWarning: \n",
            "A value is trying to be set on a copy of a slice from a DataFrame.\n",
            "Try using .loc[row_indexer,col_indexer] = value instead\n",
            "\n",
            "See the caveats in the documentation: https://pandas.pydata.org/pandas-docs/stable/user_guide/indexing.html#returning-a-view-versus-a-copy\n",
            "  df2[\"location_x\"]=ser\n",
            "C:\\Users\\ashut\\AppData\\Local\\Temp\\ipykernel_13972\\273787779.py:16: SettingWithCopyWarning: \n",
            "A value is trying to be set on a copy of a slice from a DataFrame.\n",
            "Try using .loc[row_indexer,col_indexer] = value instead\n",
            "\n",
            "See the caveats in the documentation: https://pandas.pydata.org/pandas-docs/stable/user_guide/indexing.html#returning-a-view-versus-a-copy\n",
            "  df2[\"location_y\"]=ser\n",
            "C:\\Users\\ashut\\AppData\\Local\\Temp\\ipykernel_13972\\273787779.py:18: SettingWithCopyWarning: \n",
            "A value is trying to be set on a copy of a slice from a DataFrame.\n",
            "Try using .loc[row_indexer,col_indexer] = value instead\n",
            "\n",
            "See the caveats in the documentation: https://pandas.pydata.org/pandas-docs/stable/user_guide/indexing.html#returning-a-view-versus-a-copy\n",
            "  df2[\"location_x\"]=pd.to_numeric(df2[\"location_x\"])\n",
            "C:\\Users\\ashut\\AppData\\Local\\Temp\\ipykernel_13972\\273787779.py:19: SettingWithCopyWarning: \n",
            "A value is trying to be set on a copy of a slice from a DataFrame.\n",
            "Try using .loc[row_indexer,col_indexer] = value instead\n",
            "\n",
            "See the caveats in the documentation: https://pandas.pydata.org/pandas-docs/stable/user_guide/indexing.html#returning-a-view-versus-a-copy\n",
            "  df2[\"location_y\"]=pd.to_numeric(df2[\"location_y\"])\n"
          ]
        }
      ],
      "source": [
        "def func_x(val):\n",
        "    if val == \"\":\n",
        "        return 0.0\n",
        "    return val.strip(\"() \").split()[0].strip(\" ,\")\n",
        "\n",
        "def func_y(val):\n",
        "    if val == \"\":\n",
        "        return 0.0\n",
        "    \n",
        "    return val.strip(\"() \").split()[1].strip(\" ,\")\n",
        "df2[\"Location \"].fillna(\"(0.0, 0.0)\")\n",
        "df2[\"Location \"]=df2[\"Location \"].replace(np.nan,\"(0.0, 0.0)\")\n",
        "ser=df2[\"Location \"].apply(func_x)\n",
        "df2[\"location_x\"]=ser\n",
        "ser=df2[\"Location \"].apply(func_y)\n",
        "df2[\"location_y\"]=ser\n",
        "\n",
        "df2[\"location_x\"]=pd.to_numeric(df2[\"location_x\"])\n",
        "df2[\"location_y\"]=pd.to_numeric(df2[\"location_y\"])"
      ]
    },
    {
      "cell_type": "code",
      "execution_count": null,
      "id": "40a72b57",
      "metadata": {
        "id": "40a72b57"
      },
      "outputs": [],
      "source": [
        "df2=df2.drop(\"Location \",axis=1)"
      ]
    },
    {
      "cell_type": "code",
      "execution_count": null,
      "id": "094b0986",
      "metadata": {
        "id": "094b0986",
        "outputId": "3dc52ba7-d6a2-4b04-c6bd-2a59331852de"
      },
      "outputs": [
        {
          "name": "stdout",
          "output_type": "stream",
          "text": [
            "<class 'pandas.core.frame.DataFrame'>\n",
            "RangeIndex: 1584316 entries, 0 to 1584315\n",
            "Data columns (total 10 columns):\n",
            " #   Column              Non-Null Count    Dtype  \n",
            "---  ------              --------------    -----  \n",
            " 0   Time Occurred       1584316 non-null  int64  \n",
            " 1   Area ID             1584316 non-null  int64  \n",
            " 2   Reporting District  1584316 non-null  int64  \n",
            " 3   Crime Code          1584316 non-null  int64  \n",
            " 4   Victim Age          1455657 non-null  float64\n",
            " 5   Victim Sex          1439117 non-null  object \n",
            " 6   Victim Descent      1439084 non-null  object \n",
            " 7   Premise Code        1584240 non-null  float64\n",
            " 8   location_x          1584316 non-null  float64\n",
            " 9   location_y          1584316 non-null  float64\n",
            "dtypes: float64(4), int64(4), object(2)\n",
            "memory usage: 120.9+ MB\n"
          ]
        }
      ],
      "source": [
        "df2.info()"
      ]
    },
    {
      "cell_type": "code",
      "execution_count": null,
      "id": "a284219a",
      "metadata": {
        "id": "a284219a",
        "outputId": "5a907ea6-2069-4beb-c4a4-dd59e2335ab6"
      },
      "outputs": [
        {
          "data": {
            "text/plain": [
              "0"
            ]
          },
          "execution_count": 14,
          "metadata": {},
          "output_type": "execute_result"
        }
      ],
      "source": [
        "df2[\"Premise Code\"]=df2[\"Premise Code\"].replace(np.nan,0.0)\n",
        "df2[\"Premise Code\"]=df2[\"Premise Code\"].fillna(0.0)\n",
        "df2[\"Victim Sex\"]=df2[\"Victim Sex\"].fillna('-')\n",
        "df2[\"Victim Age\"]=df2[\"Victim Age\"].fillna(df2[\"Victim Age\"].mean())\n",
        "df2[\"Victim Descent\"]=df2[\"Victim Descent\"].fillna('-')\n",
        "df2.isna().sum().sum()"
      ]
    },
    {
      "cell_type": "code",
      "execution_count": null,
      "id": "b41dce99",
      "metadata": {
        "id": "b41dce99"
      },
      "outputs": [],
      "source": [
        "# columns to be used - Time Occurred(int), Area ID(categorical), \n",
        "# crime code (138 categorical), Victim Age(int), Victim Sex(categorical), Victim Descent(categorical),\n",
        "# Location (tuple of floating point numbers)"
      ]
    },
    {
      "cell_type": "code",
      "execution_count": null,
      "id": "6e6cbce5",
      "metadata": {
        "id": "6e6cbce5"
      },
      "outputs": [],
      "source": [
        "df2[\"Area ID\"]=df2[\"Area ID\"].astype(str)\n",
        "df2[\"Reporting District\"]=df2[\"Reporting District\"].astype(str)\n",
        "df2[\"Crime Code\"]=df2[\"Crime Code\"].astype(str)\n",
        "df2[\"Premise Code\"]=df2[\"Premise Code\"].astype(str)"
      ]
    },
    {
      "cell_type": "code",
      "execution_count": null,
      "id": "826df057",
      "metadata": {
        "id": "826df057",
        "outputId": "9d2f184a-7d67-4f69-cb83-c9877e8f3408"
      },
      "outputs": [
        {
          "data": {
            "text/html": [
              "<div>\n",
              "<style scoped>\n",
              "    .dataframe tbody tr th:only-of-type {\n",
              "        vertical-align: middle;\n",
              "    }\n",
              "\n",
              "    .dataframe tbody tr th {\n",
              "        vertical-align: top;\n",
              "    }\n",
              "\n",
              "    .dataframe thead th {\n",
              "        text-align: right;\n",
              "    }\n",
              "</style>\n",
              "<table border=\"1\" class=\"dataframe\">\n",
              "  <thead>\n",
              "    <tr style=\"text-align: right;\">\n",
              "      <th></th>\n",
              "      <th>Time Occurred</th>\n",
              "      <th>Area ID</th>\n",
              "      <th>Reporting District</th>\n",
              "      <th>Crime Code</th>\n",
              "      <th>Victim Age</th>\n",
              "      <th>Victim Sex</th>\n",
              "      <th>Victim Descent</th>\n",
              "      <th>Premise Code</th>\n",
              "      <th>location_x</th>\n",
              "      <th>location_y</th>\n",
              "    </tr>\n",
              "  </thead>\n",
              "  <tbody>\n",
              "    <tr>\n",
              "      <th>0</th>\n",
              "      <td>1800</td>\n",
              "      <td>12</td>\n",
              "      <td>1241</td>\n",
              "      <td>626</td>\n",
              "      <td>30.000000</td>\n",
              "      <td>F</td>\n",
              "      <td>W</td>\n",
              "      <td>502.0</td>\n",
              "      <td>33.9829</td>\n",
              "      <td>-118.3338</td>\n",
              "    </tr>\n",
              "    <tr>\n",
              "      <th>1</th>\n",
              "      <td>2300</td>\n",
              "      <td>20</td>\n",
              "      <td>2071</td>\n",
              "      <td>510</td>\n",
              "      <td>35.934195</td>\n",
              "      <td>-</td>\n",
              "      <td>-</td>\n",
              "      <td>101.0</td>\n",
              "      <td>34.0454</td>\n",
              "      <td>-118.3157</td>\n",
              "    </tr>\n",
              "    <tr>\n",
              "      <th>2</th>\n",
              "      <td>2030</td>\n",
              "      <td>18</td>\n",
              "      <td>1823</td>\n",
              "      <td>510</td>\n",
              "      <td>12.000000</td>\n",
              "      <td>-</td>\n",
              "      <td>-</td>\n",
              "      <td>101.0</td>\n",
              "      <td>33.9420</td>\n",
              "      <td>-118.2717</td>\n",
              "    </tr>\n",
              "    <tr>\n",
              "      <th>3</th>\n",
              "      <td>1800</td>\n",
              "      <td>18</td>\n",
              "      <td>1803</td>\n",
              "      <td>510</td>\n",
              "      <td>35.934195</td>\n",
              "      <td>-</td>\n",
              "      <td>-</td>\n",
              "      <td>101.0</td>\n",
              "      <td>33.9572</td>\n",
              "      <td>-118.2717</td>\n",
              "    </tr>\n",
              "    <tr>\n",
              "      <th>4</th>\n",
              "      <td>2300</td>\n",
              "      <td>21</td>\n",
              "      <td>2133</td>\n",
              "      <td>745</td>\n",
              "      <td>84.000000</td>\n",
              "      <td>M</td>\n",
              "      <td>W</td>\n",
              "      <td>501.0</td>\n",
              "      <td>34.2009</td>\n",
              "      <td>-118.6369</td>\n",
              "    </tr>\n",
              "  </tbody>\n",
              "</table>\n",
              "</div>"
            ],
            "text/plain": [
              "   Time Occurred Area ID Reporting District Crime Code  Victim Age Victim Sex  \\\n",
              "0           1800      12               1241        626   30.000000          F   \n",
              "1           2300      20               2071        510   35.934195          -   \n",
              "2           2030      18               1823        510   12.000000          -   \n",
              "3           1800      18               1803        510   35.934195          -   \n",
              "4           2300      21               2133        745   84.000000          M   \n",
              "\n",
              "  Victim Descent Premise Code  location_x  location_y  \n",
              "0              W        502.0     33.9829   -118.3338  \n",
              "1              -        101.0     34.0454   -118.3157  \n",
              "2              -        101.0     33.9420   -118.2717  \n",
              "3              -        101.0     33.9572   -118.2717  \n",
              "4              W        501.0     34.2009   -118.6369  "
            ]
          },
          "execution_count": 17,
          "metadata": {},
          "output_type": "execute_result"
        }
      ],
      "source": [
        "df2.head()"
      ]
    },
    {
      "cell_type": "code",
      "execution_count": null,
      "id": "07b7da38",
      "metadata": {
        "id": "07b7da38"
      },
      "outputs": [],
      "source": [
        "final_df=df2[['Time Occurred', 'Area ID', 'Crime Code',\n",
        "       'Victim Age', 'Victim Sex', 'Victim Descent',\n",
        "       'location_x', 'location_y']]"
      ]
    },
    {
      "cell_type": "code",
      "execution_count": null,
      "id": "849a7af9",
      "metadata": {
        "id": "849a7af9"
      },
      "outputs": [],
      "source": [
        "#given time, area,age,sex,descent,location coordinates, we predict the possible crime a person will be exposed to\n",
        "from sklearn.model_selection import train_test_split\n",
        "df_X_cat=pd.get_dummies(final_df[['Area ID','Victim Sex', 'Victim Descent']])\n",
        "df_Y=final_df['Crime Code']\n",
        "df_X_val=final_df[['Time Occurred', 'Victim Age', 'location_x', 'location_y']]\n",
        "df_X=pd.concat([df_X_cat, df_X_val], axis=1, join='inner')"
      ]
    },
    {
      "cell_type": "code",
      "execution_count": null,
      "id": "a49fb889",
      "metadata": {
        "id": "a49fb889"
      },
      "outputs": [],
      "source": [
        "X=df_X.to_numpy()\n",
        "y=df_Y.to_numpy()\n",
        "x_train, x_test, y_train, y_test = train_test_split(X,y,test_size=0.2,train_size=0.8, random_state=80, shuffle=True)"
      ]
    },
    {
      "cell_type": "code",
      "execution_count": null,
      "id": "f0c8240e",
      "metadata": {
        "id": "f0c8240e"
      },
      "outputs": [],
      "source": [
        "from sklearn import linear_model"
      ]
    },
    {
      "cell_type": "code",
      "execution_count": null,
      "id": "7c7e1be3",
      "metadata": {
        "id": "7c7e1be3",
        "outputId": "f59307b7-e088-44e2-a71c-a4707829d0bc"
      },
      "outputs": [
        {
          "data": {
            "text/plain": [
              "0.21039625833165018"
            ]
          },
          "execution_count": 22,
          "metadata": {},
          "output_type": "execute_result"
        }
      ],
      "source": [
        "clf = linear_model.RidgeClassifier().fit(x_train, y_train)\n",
        "clf.score(x_test,y_test)"
      ]
    },
    {
      "cell_type": "code",
      "execution_count": null,
      "id": "334581af",
      "metadata": {
        "id": "334581af",
        "outputId": "a2582cb9-6c6c-42f5-8b38-f075c623fe56"
      },
      "outputs": [
        {
          "name": "stderr",
          "output_type": "stream",
          "text": [
            "C:\\Users\\ashut\\anaconda3\\lib\\site-packages\\sklearn\\linear_model\\_logistic.py:814: ConvergenceWarning: lbfgs failed to converge (status=1):\n",
            "STOP: TOTAL NO. of ITERATIONS REACHED LIMIT.\n",
            "\n",
            "Increase the number of iterations (max_iter) or scale the data as shown in:\n",
            "    https://scikit-learn.org/stable/modules/preprocessing.html\n",
            "Please also refer to the documentation for alternative solver options:\n",
            "    https://scikit-learn.org/stable/modules/linear_model.html#logistic-regression\n",
            "  n_iter_i = _check_optimize_result(\n"
          ]
        },
        {
          "data": {
            "text/plain": [
              "0.13090789739446576"
            ]
          },
          "execution_count": 23,
          "metadata": {},
          "output_type": "execute_result"
        }
      ],
      "source": [
        "clf2 = linear_model.LogisticRegression(random_state=0,max_iter=50).fit(x_train, y_train)\n",
        "clf2.score(x_test, y_test)"
      ]
    },
    {
      "cell_type": "code",
      "execution_count": null,
      "id": "93f83571",
      "metadata": {
        "id": "93f83571",
        "outputId": "0d15c2cf-c0a7-4a76-e0d8-7913aec68722"
      },
      "outputs": [
        {
          "name": "stderr",
          "output_type": "stream",
          "text": [
            "C:\\Users\\ashut\\anaconda3\\lib\\site-packages\\sklearn\\neural_network\\_multilayer_perceptron.py:692: ConvergenceWarning: Stochastic Optimizer: Maximum iterations (30) reached and the optimization hasn't converged yet.\n",
            "  warnings.warn(\n"
          ]
        },
        {
          "data": {
            "text/plain": [
              "0.23550166633003433"
            ]
          },
          "execution_count": 24,
          "metadata": {},
          "output_type": "execute_result"
        }
      ],
      "source": [
        "from sklearn.neural_network import MLPClassifier\n",
        "clf3 = MLPClassifier(random_state=1, max_iter=30).fit(x_train, y_train)\n",
        "clf3.score(x_test, y_test)"
      ]
    },
    {
      "cell_type": "code",
      "execution_count": null,
      "id": "bd4bba74",
      "metadata": {
        "id": "bd4bba74",
        "outputId": "b3e0258e-9e20-40ed-d4f8-09f648d4c7c0"
      },
      "outputs": [
        {
          "data": {
            "text/plain": [
              "0.18653744193092306"
            ]
          },
          "execution_count": 25,
          "metadata": {},
          "output_type": "execute_result"
        }
      ],
      "source": [
        "from sklearn import tree\n",
        "clf4 = tree.DecisionTreeClassifier()\n",
        "clf4.fit(x_train, y_train)\n",
        "clf4.score(x_test,y_test)"
      ]
    },
    {
      "cell_type": "code",
      "execution_count": null,
      "id": "c6b93cae",
      "metadata": {
        "id": "c6b93cae",
        "outputId": "8050e99e-013c-4866-a41e-d179f7c87990"
      },
      "outputs": [
        {
          "name": "stdout",
          "output_type": "stream",
          "text": [
            "[LibLinear]"
          ]
        },
        {
          "name": "stderr",
          "output_type": "stream",
          "text": [
            "C:\\Users\\ashut\\anaconda3\\lib\\site-packages\\sklearn\\svm\\_base.py:1206: ConvergenceWarning: Liblinear failed to converge, increase the number of iterations.\n",
            "  warnings.warn(\n"
          ]
        },
        {
          "data": {
            "text/plain": [
              "0.10529438497273279"
            ]
          },
          "execution_count": 26,
          "metadata": {},
          "output_type": "execute_result"
        }
      ],
      "source": [
        "from sklearn import svm\n",
        "lin_clf = svm.LinearSVC(max_iter=1,verbose=1) # reduced iterations because higher iterations take a lot of time\n",
        "lin_clf.fit(x_train, y_train)\n",
        "lin_clf.score(x_test,y_test)"
      ]
    },
    {
      "cell_type": "code",
      "execution_count": null,
      "id": "5c637275",
      "metadata": {
        "id": "5c637275",
        "outputId": "a22ca43f-75de-4b78-84ae-dfc851072c47"
      },
      "outputs": [
        {
          "name": "stderr",
          "output_type": "stream",
          "text": [
            "C:\\Users\\ashut\\anaconda3\\lib\\site-packages\\sklearn\\linear_model\\_stochastic_gradient.py:696: ConvergenceWarning: Maximum number of iteration reached before convergence. Consider increasing max_iter to improve the fit.\n",
            "  warnings.warn(\n"
          ]
        },
        {
          "data": {
            "text/plain": [
              "0.04958594223389214"
            ]
          },
          "execution_count": 27,
          "metadata": {},
          "output_type": "execute_result"
        }
      ],
      "source": [
        "from sklearn.linear_model import SGDClassifier\n",
        "clf5 = SGDClassifier(loss=\"hinge\", penalty=\"l2\", max_iter=5)\n",
        "clf5.fit(x_train, y_train)\n",
        "clf5.score(x_test,y_test)"
      ]
    },
    {
      "cell_type": "code",
      "execution_count": null,
      "id": "76247a78",
      "metadata": {
        "id": "76247a78",
        "outputId": "8007473f-4b86-44d7-a2c2-0a9b1dadb9e6"
      },
      "outputs": [
        {
          "data": {
            "text/plain": [
              "array(['442', '442', '442', ..., '442', '442', '442'], dtype='<U3')"
            ]
          },
          "execution_count": 28,
          "metadata": {},
          "output_type": "execute_result"
        }
      ],
      "source": [
        "clf5.predict(x_test)"
      ]
    },
    {
      "cell_type": "code",
      "execution_count": null,
      "id": "dca7ca68",
      "metadata": {
        "id": "dca7ca68",
        "outputId": "c9e2c426-3fd7-4a49-a969-803137a60135"
      },
      "outputs": [
        {
          "data": {
            "image/png": "[encoded data removed]",
            "text/plain": [
              "<Figure size 432x288 with 2 Axes>"
            ]
          },
          "metadata": {
            "needs_background": "light"
          },
          "output_type": "display_data"
        }
      ],
      "source": [
        "import seaborn as sns\n",
        "import matplotlib.pyplot as plt\n",
        "dataplot = sns.heatmap(final_df.corr(), cmap=\"YlGnBu\", annot=True)\n",
        "\n",
        "plt.show()"
      ]
    },
    {
      "cell_type": "code",
      "execution_count": null,
      "id": "4ff7d5f3",
      "metadata": {
        "id": "4ff7d5f3",
        "outputId": "03fefe92-6de2-4c18-aa9a-5cf182dffa91"
      },
      "outputs": [
        {
          "name": "stdout",
          "output_type": "stream",
          "text": [
            "Collecting gradio\n",
            "  Downloading gradio-3.12.0-py3-none-any.whl (11.6 MB)\n",
            "Requirement already satisfied: pyyaml in c:\\users\\ashut\\anaconda3\\lib\\site-packages (from gradio) (6.0)\n",
            "Requirement already satisfied: requests in c:\\users\\ashut\\anaconda3\\lib\\site-packages (from gradio) (2.27.1)\n",
            "Requirement already satisfied: numpy in c:\\users\\ashut\\anaconda3\\lib\\site-packages (from gradio) (1.21.5)\n",
            "Requirement already satisfied: fsspec in c:\\users\\ashut\\anaconda3\\lib\\site-packages (from gradio) (2022.2.0)\n",
            "Collecting ffmpy\n",
            "  Downloading ffmpy-0.3.0.tar.gz (4.8 kB)\n",
            "Requirement already satisfied: jinja2 in c:\\users\\ashut\\anaconda3\\lib\\site-packages (from gradio) (2.11.3)\n",
            "Requirement already satisfied: matplotlib in c:\\users\\ashut\\anaconda3\\lib\\site-packages (from gradio) (3.5.1)\n",
            "Collecting websockets>=10.0\n",
            "  Downloading websockets-10.4-cp39-cp39-win_amd64.whl (101 kB)\n",
            "Collecting httpx\n",
            "  Downloading httpx-0.23.1-py3-none-any.whl (84 kB)\n",
            "Collecting python-multipart\n",
            "  Downloading python-multipart-0.0.5.tar.gz (32 kB)\n",
            "Collecting h11<0.13,>=0.11\n",
            "  Downloading h11-0.12.0-py3-none-any.whl (54 kB)\n",
            "Collecting pydub\n",
            "  Downloading pydub-0.25.1-py2.py3-none-any.whl (32 kB)\n",
            "Collecting orjson\n",
            "  Downloading orjson-3.8.2-cp39-none-win_amd64.whl (200 kB)\n",
            "Requirement already satisfied: pillow in c:\\users\\ashut\\anaconda3\\lib\\site-packages (from gradio) (9.0.1)\n",
            "Requirement already satisfied: pandas in c:\\users\\ashut\\anaconda3\\lib\\site-packages (from gradio) (1.4.2)\n",
            "Collecting pydantic\n",
            "  Downloading pydantic-1.10.2-cp39-cp39-win_amd64.whl (2.1 MB)\n",
            "Collecting pycryptodome\n",
            "  Downloading pycryptodome-3.16.0-cp35-abi3-win_amd64.whl (1.7 MB)\n",
            "Collecting markdown-it-py[linkify,plugins]\n",
            "  Downloading markdown_it_py-2.1.0-py3-none-any.whl (84 kB)\n",
            "Requirement already satisfied: paramiko in c:\\users\\ashut\\anaconda3\\lib\\site-packages (from gradio) (2.8.1)\n",
            "Collecting fastapi\n",
            "  Downloading fastapi-0.88.0-py3-none-any.whl (55 kB)\n",
            "Requirement already satisfied: aiohttp in c:\\users\\ashut\\anaconda3\\lib\\site-packages (from gradio) (3.8.1)\n",
            "Collecting uvicorn\n",
            "  Downloading uvicorn-0.20.0-py3-none-any.whl (56 kB)\n",
            "Requirement already satisfied: multidict<7.0,>=4.5 in c:\\users\\ashut\\anaconda3\\lib\\site-packages (from aiohttp->gradio) (5.1.0)\n",
            "Requirement already satisfied: charset-normalizer<3.0,>=2.0 in c:\\users\\ashut\\anaconda3\\lib\\site-packages (from aiohttp->gradio) (2.0.4)\n",
            "Requirement already satisfied: frozenlist>=1.1.1 in c:\\users\\ashut\\anaconda3\\lib\\site-packages (from aiohttp->gradio) (1.2.0)\n",
            "Requirement already satisfied: aiosignal>=1.1.2 in c:\\users\\ashut\\anaconda3\\lib\\site-packages (from aiohttp->gradio) (1.2.0)\n",
            "Requirement already satisfied: yarl<2.0,>=1.0 in c:\\users\\ashut\\anaconda3\\lib\\site-packages (from aiohttp->gradio) (1.6.3)\n",
            "Requirement already satisfied: attrs>=17.3.0 in c:\\users\\ashut\\anaconda3\\lib\\site-packages (from aiohttp->gradio) (21.4.0)\n",
            "Requirement already satisfied: async-timeout<5.0,>=4.0.0a3 in c:\\users\\ashut\\anaconda3\\lib\\site-packages (from aiohttp->gradio) (4.0.1)\n",
            "Requirement already satisfied: typing-extensions>=3.6.5 in c:\\users\\ashut\\anaconda3\\lib\\site-packages (from async-timeout<5.0,>=4.0.0a3->aiohttp->gradio) (4.1.1)\n",
            "Requirement already satisfied: idna>=2.0 in c:\\users\\ashut\\anaconda3\\lib\\site-packages (from yarl<2.0,>=1.0->aiohttp->gradio) (3.3)\n",
            "Collecting starlette==0.22.0\n",
            "  Downloading starlette-0.22.0-py3-none-any.whl (64 kB)\n",
            "Requirement already satisfied: anyio<5,>=3.4.0 in c:\\users\\ashut\\anaconda3\\lib\\site-packages (from starlette==0.22.0->fastapi->gradio) (3.5.0)\n",
            "Requirement already satisfied: sniffio>=1.1 in c:\\users\\ashut\\anaconda3\\lib\\site-packages (from anyio<5,>=3.4.0->starlette==0.22.0->fastapi->gradio) (1.2.0)\n",
            "Collecting rfc3986[idna2008]<2,>=1.3\n",
            "  Downloading rfc3986-1.5.0-py2.py3-none-any.whl (31 kB)\n",
            "Collecting httpcore<0.17.0,>=0.15.0\n",
            "  Downloading httpcore-0.16.2-py3-none-any.whl (68 kB)\n",
            "Requirement already satisfied: certifi in c:\\users\\ashut\\anaconda3\\lib\\site-packages (from httpx->gradio) (2021.10.8)\n",
            "  Downloading httpcore-0.16.1-py3-none-any.whl (68 kB)\n",
            "  Downloading httpcore-0.16.0-py3-none-any.whl (68 kB)\n",
            "  Downloading httpcore-0.15.0-py3-none-any.whl (68 kB)\n",
            "Requirement already satisfied: MarkupSafe>=0.23 in c:\\users\\ashut\\anaconda3\\lib\\site-packages (from jinja2->gradio) (2.0.1)\n",
            "Collecting mdurl~=0.1\n",
            "  Downloading mdurl-0.1.2-py3-none-any.whl (10.0 kB)\n",
            "Collecting linkify-it-py~=1.0\n",
            "  Downloading linkify_it_py-1.0.3-py3-none-any.whl (19 kB)\n",
            "Collecting mdit-py-plugins\n",
            "  Downloading mdit_py_plugins-0.3.1-py3-none-any.whl (46 kB)\n",
            "Collecting uc-micro-py\n",
            "  Downloading uc_micro_py-1.0.1-py3-none-any.whl (6.2 kB)\n",
            "Requirement already satisfied: kiwisolver>=1.0.1 in c:\\users\\ashut\\anaconda3\\lib\\site-packages (from matplotlib->gradio) (1.3.2)\n",
            "Requirement already satisfied: python-dateutil>=2.7 in c:\\users\\ashut\\anaconda3\\lib\\site-packages (from matplotlib->gradio) (2.8.2)\n",
            "Requirement already satisfied: packaging>=20.0 in c:\\users\\ashut\\anaconda3\\lib\\site-packages (from matplotlib->gradio) (21.3)\n",
            "Requirement already satisfied: fonttools>=4.22.0 in c:\\users\\ashut\\anaconda3\\lib\\site-packages (from matplotlib->gradio) (4.25.0)\n",
            "Requirement already satisfied: cycler>=0.10 in c:\\users\\ashut\\anaconda3\\lib\\site-packages (from matplotlib->gradio) (0.11.0)\n",
            "Requirement already satisfied: pyparsing>=2.2.1 in c:\\users\\ashut\\anaconda3\\lib\\site-packages (from matplotlib->gradio) (3.0.4)\n",
            "Requirement already satisfied: six>=1.5 in c:\\users\\ashut\\anaconda3\\lib\\site-packages (from python-dateutil>=2.7->matplotlib->gradio) (1.16.0)\n",
            "Requirement already satisfied: pytz>=2020.1 in c:\\users\\ashut\\anaconda3\\lib\\site-packages (from pandas->gradio) (2021.3)\n",
            "Requirement already satisfied: cryptography>=2.5 in c:\\users\\ashut\\anaconda3\\lib\\site-packages (from paramiko->gradio) (3.4.8)\n",
            "Requirement already satisfied: pynacl>=1.0.1 in c:\\users\\ashut\\anaconda3\\lib\\site-packages (from paramiko->gradio) (1.4.0)\n",
            "Requirement already satisfied: bcrypt>=3.1.3 in c:\\users\\ashut\\anaconda3\\lib\\site-packages (from paramiko->gradio) (3.2.0)\n",
            "Requirement already satisfied: cffi>=1.1 in c:\\users\\ashut\\anaconda3\\lib\\site-packages (from bcrypt>=3.1.3->paramiko->gradio) (1.15.0)\n",
            "Requirement already satisfied: pycparser in c:\\users\\ashut\\anaconda3\\lib\\site-packages (from cffi>=1.1->bcrypt>=3.1.3->paramiko->gradio) (2.21)\n",
            "Requirement already satisfied: urllib3<1.27,>=1.21.1 in c:\\users\\ashut\\anaconda3\\lib\\site-packages (from requests->gradio) (1.26.9)\n",
            "Requirement already satisfied: click>=7.0 in c:\\users\\ashut\\anaconda3\\lib\\site-packages (from uvicorn->gradio) (8.0.4)\n",
            "Requirement already satisfied: colorama in c:\\users\\ashut\\anaconda3\\lib\\site-packages (from click>=7.0->uvicorn->gradio) (0.4.4)\n",
            "Building wheels for collected packages: ffmpy, python-multipart\n",
            "  Building wheel for ffmpy (setup.py): started\n",
            "  Building wheel for ffmpy (setup.py): finished with status 'done'\n",
            "  Created wheel for ffmpy: filename=ffmpy-0.3.0-py3-none-any.whl size=4712 sha256=058dc35c10da079b103b2f1ff3d467f75253f38d7b925059f10a3b48f59286b4\n",
            "  Stored in directory: c:\\users\\ashut\\appdata\\local\\pip\\cache\\wheels\\91\\e2\\96\\f676aa08bfd789328c6576cd0f1fde4a3d686703bb0c247697\n",
            "  Building wheel for python-multipart (setup.py): started\n",
            "  Building wheel for python-multipart (setup.py): finished with status 'done'\n",
            "  Created wheel for python-multipart: filename=python_multipart-0.0.5-py3-none-any.whl size=31678 sha256=75252aa0ce8c89f781c0ada9156fb9945a805ef6bf70e1ec06562186b1ad102a\n",
            "  Stored in directory: c:\\users\\ashut\\appdata\\local\\pip\\cache\\wheels\\fe\\04\\d1\\a10661cc45f03c3cecda50deb2d2c22f57b4e84a75b2a5987e\n",
            "Successfully built ffmpy python-multipart\n",
            "Installing collected packages: mdurl, uc-micro-py, rfc3986, markdown-it-py, h11, starlette, pydantic, mdit-py-plugins, linkify-it-py, httpcore, websockets, uvicorn, python-multipart, pydub, pycryptodome, orjson, httpx, ffmpy, fastapi, gradio\n",
            "Successfully installed fastapi-0.88.0 ffmpy-0.3.0 gradio-3.12.0 h11-0.12.0 httpcore-0.15.0 httpx-0.23.1 linkify-it-py-1.0.3 markdown-it-py-2.1.0 mdit-py-plugins-0.3.1 mdurl-0.1.2 orjson-3.8.2 pycryptodome-3.16.0 pydantic-1.10.2 pydub-0.25.1 python-multipart-0.0.5 rfc3986-1.5.0 starlette-0.22.0 uc-micro-py-1.0.1 uvicorn-0.20.0 websockets-10.4\n"
          ]
        }
      ],
      "source": [
        "!pip install gradio"
      ]
    },
    {
      "cell_type": "code",
      "execution_count": null,
      "id": "308cb9a9",
      "metadata": {
        "id": "308cb9a9",
        "outputId": "e275e50d-dda3-4680-b794-0f4997ade50a"
      },
      "outputs": [
        {
          "data": {
            "text/plain": [
              "Index(['Area ID_1', 'Area ID_10', 'Area ID_11', 'Area ID_12', 'Area ID_13',\n",
              "       'Area ID_14', 'Area ID_15', 'Area ID_16', 'Area ID_17', 'Area ID_18',\n",
              "       'Area ID_19', 'Area ID_2', 'Area ID_20', 'Area ID_21', 'Area ID_3',\n",
              "       'Area ID_4', 'Area ID_5', 'Area ID_6', 'Area ID_7', 'Area ID_8',\n",
              "       'Area ID_9', 'Victim Sex_-', 'Victim Sex_F', 'Victim Sex_H',\n",
              "       'Victim Sex_M', 'Victim Sex_X', 'Victim Descent_-', 'Victim Descent_A',\n",
              "       'Victim Descent_B', 'Victim Descent_C', 'Victim Descent_D',\n",
              "       'Victim Descent_F', 'Victim Descent_G', 'Victim Descent_H',\n",
              "       'Victim Descent_I', 'Victim Descent_J', 'Victim Descent_K',\n",
              "       'Victim Descent_L', 'Victim Descent_O', 'Victim Descent_P',\n",
              "       'Victim Descent_S', 'Victim Descent_U', 'Victim Descent_V',\n",
              "       'Victim Descent_W', 'Victim Descent_X', 'Victim Descent_Z',\n",
              "       'Time Occurred', 'Victim Age', 'location_x', 'location_y'],\n",
              "      dtype='object')"
            ]
          },
          "execution_count": 39,
          "metadata": {},
          "output_type": "execute_result"
        }
      ],
      "source": [
        "df_X.columns"
      ]
    },
    {
      "cell_type": "code",
      "execution_count": null,
      "id": "9e0219df",
      "metadata": {
        "id": "9e0219df"
      },
      "outputs": [],
      "source": [
        "cols2=list(df_X.columns)\n",
        "cols=[1,10,11,12,13,14,15,16,17,18,19,2,20,21,3,4,5,6,7,8,9,\\\n",
        "     '-','F','H','M','X','-','A','B','C','D','F','G','H','I','J','K','L','O','P','S','U','V','W','X','Z','time','age','x','y']"
      ]
    },
    {
      "cell_type": "code",
      "execution_count": null,
      "id": "ecd08c85",
      "metadata": {
        "id": "ecd08c85",
        "outputId": "fb62123d-9d7d-487c-96b2-6b04eaba8273"
      },
      "outputs": [
        {
          "name": "stdout",
          "output_type": "stream",
          "text": [
            "Running on local URL:  http://127.0.0.1:7872\n",
            "\n",
            "To create a public link, set `share=True` in `launch()`.\n"
          ]
        },
        {
          "data": {
            "text/html": [
              "<div><iframe src=\"http://127.0.0.1:7872/\" width=\"100%\" height=\"500\" allow=\"autoplay; camera; microphone; clipboard-read; clipboard-write;\" frameborder=\"0\" allowfullscreen></iframe></div>"
            ],
            "text/plain": [
              "<IPython.core.display.HTML object>"
            ]
          },
          "metadata": {},
          "output_type": "display_data"
        },
        {
          "data": {
            "text/plain": []
          },
          "execution_count": 51,
          "metadata": {},
          "output_type": "execute_result"
        }
      ],
      "source": [
        "import gradio as gr\n",
        "\n",
        "def greet(time,area_id,age,sex,descent,x,y):\n",
        "    time=int(time)\n",
        "    area_id=int(area_id)\n",
        "    age=float(age)\n",
        "    x=float(x)\n",
        "    y=float(y)\n",
        "    cols=[1,10,11,12,13,14,15,16,17,18,19,2,20,21,3,4,5,6,7,8,9,\\\n",
        "     '-','F','H','M','X','-','A','B','C','D','F','G','H','I','J','K','L','O','P','S','U','V','W','X','Z','time','age','x','y']\n",
        "    cols=(cols)\n",
        "    a=([0.0]*len(cols))\n",
        "    \n",
        "    id_=cols.index(area_id)\n",
        "    a[id_]=1\n",
        "    \n",
        "    if sex == \"-\":\n",
        "        a[21]=1\n",
        "    else:\n",
        "        id_=cols[21:26].index(sex)\n",
        "        a[id_]=1\n",
        "        \n",
        "    if descent == \"-\":\n",
        "        a[26]=1\n",
        "    else:\n",
        "        id_=cols[26:-4].index(descent)\n",
        "        a[id_]=1\n",
        "    a[-1]=y\n",
        "    a[-2]=x\n",
        "    a[-3]=age\n",
        "    a[-4]=time\n",
        "    \n",
        "    a=np.expand_dims(np.array(a),axis=0)\n",
        "        \n",
        "    return np.array(clf.predict(a)).item()\n",
        "\n",
        "demo = gr.Interface(fn=greet, inputs=[\"text\",\"text\",\"text\",\"text\",\"text\",\"text\",\"text\"], outputs=\"text\")\n",
        "\n",
        "demo.launch()"
      ]
    }
  ],
  "metadata": {
    "kernelspec": {
      "display_name": "Python 3 (ipykernel)",
      "language": "python",
      "name": "python3"
    },
    "language_info": {
      "codemirror_mode": {
        "name": "ipython",
        "version": 3
      },
      "file_extension": ".py",
      "mimetype": "text/x-python",
      "name": "python",
      "nbconvert_exporter": "python",
      "pygments_lexer": "ipython3",
      "version": "3.9.12"
    },
    "colab": {
      "provenance": []
    }
  },
  "nbformat": 4,
  "nbformat_minor": 5
}